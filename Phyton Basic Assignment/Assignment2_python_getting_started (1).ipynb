{
 "cells": [
  {
   "cell_type": "markdown",
   "metadata": {
    "colab_type": "text",
    "id": "view-in-github"
   },
   "source": [
    "<a href=\"https://colab.research.google.com/github/anshupandey/techtrunk_training/blob/master/Assignment1_python_getting_started.ipynb\" target=\"_parent\"><img src=\"https://colab.research.google.com/assets/colab-badge.svg\" alt=\"Open In Colab\"/></a>"
   ]
  },
  {
   "cell_type": "markdown",
   "metadata": {
    "colab_type": "text",
    "id": "f1TWTGqob4vF",
    "tags": [
     "Python",
     "Assignments",
     "Practice",
     "course",
     "python"
    ]
   },
   "source": [
    " # Getting Started with Python"
   ]
  },
  {
   "cell_type": "markdown",
   "metadata": {
    "colab_type": "text",
    "id": "whK_2Ayvb4vI",
    "tags": [
     "reverese_number",
     "python_excercise",
     "code",
     "python"
    ]
   },
   "source": [
    "### Excercise 1\n",
    "\n",
    "<b><p> Write code which accepts a number from user and returns the reverse of it.</b>\n",
    "    <br> For example \n",
    "    <li> reverse_number(852) will return 258\n",
    "    <li> reverse_number(6242) will return 2426\n",
    "    <li> reverse_number(81) will return 18"
   ]
  },
  {
   "cell_type": "code",
   "execution_count": 1,
   "metadata": {
    "colab": {},
    "colab_type": "code",
    "id": "dWx0iwNAb4vJ"
   },
   "outputs": [
    {
     "name": "stdout",
     "output_type": "stream",
     "text": [
      "Reverse of no. is  2654\n"
     ]
    }
   ],
   "source": [
    "# Python 3 program to reverse digits \n",
    "# of a number \n",
    "rev_num = 0\n",
    "base_pos = 1\n",
    "  \n",
    "# Recursive function to reverse \n",
    "# digits of num \n",
    "def reversDigits(num): \n",
    "    global rev_num \n",
    "    global base_pos \n",
    "    if(num > 0): \n",
    "        reversDigits((int)(num / 10)) \n",
    "        rev_num += (num % 10) * base_pos \n",
    "        base_pos *= 10\n",
    "    return rev_num \n",
    "      \n",
    "# Driver Code  \n",
    "num = 4562\n",
    "print(\"Reverse of no. is \", \n",
    "         reversDigits(num)) "
   ]
  },
  {
   "cell_type": "markdown",
   "metadata": {
    "colab_type": "text",
    "id": "W8WYSjV3b4vS",
    "tags": [
     "python",
     "excercise"
    ]
   },
   "source": [
    "### Excercise 2\n",
    "\n",
    "<b><p> Write a program that computes the net amount of a bank account based a transaction log from console input. The transaction log format is shown as following: </b>\n",
    "    <br> D 100 \n",
    "    <br> W 200\n",
    "    \n",
    "   For example \n",
    "    \n",
    "    D means deposit while W means withdrawal.\n",
    "    Suppose the following input is supplied to the program:\n",
    "    D 300\n",
    "    D 300\n",
    "    W 200\n",
    "    D 100\n",
    "    Then, the output should be:\n",
    "    500\n",
    "\n",
    "\n",
    "Hints: In case of input data being supplied to the question, it should be assumed to be a console input."
   ]
  },
  {
   "cell_type": "code",
   "execution_count": null,
   "metadata": {
    "colab": {},
    "colab_type": "code",
    "id": "8ngdJGK3b4vU"
   },
   "outputs": [],
   "source": [
    "total = 0\n",
    "while True:\n",
    "    d_w_trans = input()\n",
    "    if d_w_trans == \"\":\n",
    "        break\n",
    "    else:\n",
    "        d_w_trans = d_w_trans.split(\" \")\n",
    "        if d_w_trans[0] == \"D\":\n",
    "            total = total + int(d_w_trans[1])\n",
    "        elif d_w_trans[0] == \"W\":\n",
    "            total = total - int(d_w_trans[1])\n",
    "\n",
    "print(total)    "
   ]
  },
  {
   "cell_type": "markdown",
   "metadata": {
    "colab_type": "text",
    "id": "Lhn6hdtAb4vY",
    "tags": [
     "python",
     "text",
     "excercise",
     "Peter",
     "Norvig"
    ]
   },
   "source": [
    "### Excercise 3\n",
    "\n",
    "<b><p> Download the dataset from  </b>\n",
    "\n",
    " http://norvig.com/ngrams/sowpods.txt \n",
    "\n",
    "    In this exercise, the task is to write a function that picks a random word from a list of words from the downloaded dictionary.\n",
    "\n",
    "<br>This file is Peter Norvig’s compilation of the dictionary of words used in professional Scrabble tournaments. Each line in the file contains a single word.\n",
    "\n",
    "    To solve this exercise, you need to do three things:\n",
    "\n",
    "-\tRead all the lists of words\n",
    "-\tGenerate a random number\n",
    "-\tTake that word\n"
   ]
  },
  {
   "cell_type": "code",
   "execution_count": null,
   "metadata": {
    "colab": {},
    "colab_type": "code",
    "id": "zh0NwwSab4vZ"
   },
   "outputs": [],
   "source": [
    "import random\n",
    "\n",
    "def pick_word ( list ):\n",
    "    return random.choice(list).strip()\n",
    "\n",
    "def read_file ( file ):\n",
    "    with open(file, 'r') as f:\n",
    "        lines = f.readlines()\n",
    "    return lines\n",
    "\n",
    "if __name__ == \"__main__\":\n",
    "    list = read_file('sowpods.txt')\n",
    "    word = pick_word(list)"
   ]
  },
  {
   "cell_type": "code",
   "execution_count": null,
   "metadata": {},
   "outputs": [],
   "source": []
  },
  {
   "cell_type": "markdown",
   "metadata": {
    "colab_type": "text",
    "id": "WYbmEOIhb4vd",
    "tags": [
     "words",
     "python",
     "code",
     "excercise"
    ]
   },
   "source": [
    "### Excercise 4\n",
    "\n",
    "<br><b>Write a program to compute the frequency of the words from the input. The output should output after sorting the key alphanumerically.</b> \n",
    "\n",
    "<br> Suppose the following input is supplied to the program:<br>\n",
    "<code> “New to Python or choosing between Python 2 and Python 3? Read Python 2 or Python 3.” </code>\n",
    "\n",
    "    Then, the output should be:\n",
    "    2:2\n",
    "    3.:1\n",
    "    3?:1\n",
    "    New:1\n",
    "    Python:5\n",
    "    Read:1\n",
    "    and:1\n",
    "    between:1\n",
    "    choosing:1\n",
    "    or:2\n",
    "    to:1\n",
    "<br><br> \n",
    "Hints: In case of input data being supplied to the question, it should be assumed to be a console input.\n"
   ]
  },
  {
   "cell_type": "code",
   "execution_count": null,
   "metadata": {
    "colab": {},
    "colab_type": "code",
    "id": "gSqU2xRLb4vf"
   },
   "outputs": [],
   "source": [
    "# Python3 code to find frequency of each word \n",
    "# function for calculating the frequency \n",
    "def freq(str): \n",
    "  \n",
    "    # break the string into list of words \n",
    "    str_list = str.split() \n",
    "  \n",
    "    # gives set of unique words \n",
    "    unique_words = set(str_list) \n",
    "      \n",
    "    for words in unique_words : \n",
    "        print('Frequency of ', words , 'is :', str_list.count(words)) \n",
    "  \n",
    "# driver code \n",
    "if __name__ == \"__main__\": \n",
    "      \n",
    "    str ='apple mango apple orange orange apple guava mango mango'\n",
    "      \n",
    "    # calling the freq function \n",
    "    freq(str) "
   ]
  },
  {
   "cell_type": "markdown",
   "metadata": {
    "colab_type": "text",
    "id": "Bkx3zUSlb4vj",
    "tags": [
     "regular_expression",
     "python",
     "excercise",
     "code"
    ]
   },
   "source": [
    "### Excercise 5\n",
    "\n",
    "<br><b>A website requires the users to input username and password to register. Write a program to check the validity of password input by users.</b> \n",
    "\n",
    "\n",
    "<br><br>Following are the criteria for checking the password:\n",
    "\n",
    "    a.\tAt least 1 letter between [a-z]\n",
    "    b.\tAt least 1 number between [0-9]\n",
    "    c.\tAt least 1 letter between [A-Z]\n",
    "    d.\tAt least 1 character from [_#@]\n",
    "    e.\tMinimum length of transaction password: 6\n",
    "    f.\tMaximum length of transaction password: 12\n",
    "\n",
    "<br> <p> Your program should accept a sequence of comma separated passwords and will check them according to the above criteria. Passwords that match the criteria are to be printed, each separated by a comma.\n",
    "<br><br>\n",
    "*For Example*\n",
    "<br>If the following passwords are given as input to the program:\n",
    "\n",
    "    ABd1234@1,a F1#,2w3E*,2We3345\n",
    "Then, the output of the program should be:\n",
    "\n",
    "    ABd1234@1\n",
    "\n",
    "<br>Hints: In case of input data being supplied to the question, it should be assumed to be a console input\n",
    "  \n"
   ]
  },
  {
   "cell_type": "code",
   "execution_count": null,
   "metadata": {
    "colab": {},
    "colab_type": "code",
    "id": "YgE1DnDDb4vl"
   },
   "outputs": [],
   "source": [
    "import re\n",
    "p= input(\"Input your password\")\n",
    "x = True\n",
    "while x:  \n",
    "    if (len(p)<6 or len(p)>12):\n",
    "        break\n",
    "    elif not re.search(\"[a-z]\",p):\n",
    "        break\n",
    "    elif not re.search(\"[0-9]\",p):\n",
    "        break\n",
    "    elif not re.search(\"[A-Z]\",p):\n",
    "        break\n",
    "    elif not re.search(\"[$#@]\",p):\n",
    "        break\n",
    "    elif re.search(\"\\s\",p):\n",
    "        break\n",
    "    else:\n",
    "        print(\"Valid Password\")\n",
    "        x=False\n",
    "        break\n",
    "\n",
    "if x:\n",
    "    print(\"Not a Valid Password\")\n"
   ]
  },
  {
   "cell_type": "code",
   "execution_count": null,
   "metadata": {},
   "outputs": [],
   "source": []
  }
 ],
 "metadata": {
  "colab": {
   "include_colab_link": true,
   "name": "Assignment1_python_getting_started.ipynb",
   "provenance": [],
   "version": "0.3.2"
  },
  "kernelspec": {
   "display_name": "Python 3",
   "language": "python",
   "name": "python3"
  },
  "language_info": {
   "codemirror_mode": {
    "name": "ipython",
    "version": 3
   },
   "file_extension": ".py",
   "mimetype": "text/x-python",
   "name": "python",
   "nbconvert_exporter": "python",
   "pygments_lexer": "ipython3",
   "version": "3.7.6"
  }
 },
 "nbformat": 4,
 "nbformat_minor": 4
}
